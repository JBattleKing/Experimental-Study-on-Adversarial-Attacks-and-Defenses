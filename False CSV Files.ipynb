{
 "cells": [
  {
   "cell_type": "code",
   "execution_count": 1,
   "metadata": {},
   "outputs": [],
   "source": [
    "import csv\n",
    "import matplotlib.pyplot as plt"
   ]
  },
  {
   "cell_type": "code",
   "execution_count": 2,
   "metadata": {},
   "outputs": [],
   "source": [
    "filename = \"Defense_Word_Replace_PyTorch_VPN.csv\" #Change for each CSV File\n",
    "original = []\n",
    "with open(filename, 'r') as file:\n",
    "    csvreader = csv.reader(file)\n",
    "    for row in csvreader:\n",
    "        original.append(row)\n",
    "sentences = original[2:]\n",
    "falses = []\n",
    "for i in sentences:\n",
    "    if i[4]==\"False\":\n",
    "        falses.append(i)\n",
    "filename = \"Defense_Word_Replace_PyTorch_VPN_False.csv\"\n",
    "col_names = [\"Sentence\", \"Actual Label\",\"Predicted Label\",\"Confidence\",\"Runtimes(s)\"]\n",
    "with open(filename, 'w') as csvfile:\n",
    "    # creating a csv writer object\n",
    "    csvwriter = csv.writer(csvfile)\n",
    "     \n",
    "    # writing the fields\n",
    "    csvwriter.writerow(col_names)\n",
    "     \n",
    "    # writing the data rows\n",
    "    csvwriter.writerows(falses)"
   ]
  }
 ],
 "metadata": {
  "kernelspec": {
   "display_name": "Python 3",
   "language": "python",
   "name": "python3"
  },
  "language_info": {
   "codemirror_mode": {
    "name": "ipython",
    "version": 3
   },
   "file_extension": ".py",
   "mimetype": "text/x-python",
   "name": "python",
   "nbconvert_exporter": "python",
   "pygments_lexer": "ipython3",
   "version": "3.6.9"
  }
 },
 "nbformat": 4,
 "nbformat_minor": 2
}
