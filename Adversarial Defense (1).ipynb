{
 "cells": [
  {
   "cell_type": "markdown",
   "metadata": {},
   "source": [
    "Have a model go through every word and delete it. Then find the average. If negative add the negative confidence. If positive add the positive confidence. It should average out to a number. It should be between the 0 and then this makes it easier to change the method of change."
   ]
  },
  {
   "cell_type": "code",
   "execution_count": null,
   "metadata": {},
   "outputs": [],
   "source": [
    "import pandas as pd\n",
    "from transformers import pipeline\n",
    "classification_task = pipeline(\"sentiment-analysis\",model = \"distilbert-base-uncased-finetuned-sst-2-english\")\n",
    "unmasker = pipeline('fill-mask', model='bert-base-uncased')\n",
    "import nltk\n",
    "nltk.download('stopwords')\n",
    "from nltk.corpus import stopwords\n",
    "stops = set(stopwords.words('english'))\n",
    "import string \n",
    "result = string.punctuation \n",
    "from sentence_transformers import SentenceTransformer, util\n",
    "import numpy as np\n",
    "model = SentenceTransformer('stsb-roberta-large')\n",
    "from tabulate import tabulate\n",
    "import ipysheet\n",
    "import csv\n",
    "from timeit import default_timer as timer\n",
    "import time\n",
    "import homoglyphs as hg\n",
    "from itertools import combinations\n",
    "pyTorchData = pd.read_csv('https://github.com/clairett/pytorch-sentiment-classification/raw/master/data/SST2/train.tsv', delimiter='\\t', header=None)\n",
    "bertAttackData = pd.read_csv('https://raw.githubusercontent.com/LinyangLee/BERT-Attack/master/data_defense/imdb_1k.tsv', delimiter='\\t', header=None)\n",
    "batch1=pyTorchData[0:5000]\n",
    "sentences = batch1[0]#here we can easily add the adversarial sentences"
   ]
  },
  {
   "cell_type": "code",
   "execution_count": null,
   "metadata": {},
   "outputs": [],
   "source": [
    "def replace(sentence):\n",
    "    sentences = []\n",
    "    for k in sentence:\n",
    "            if k in result:\n",
    "                formatted = sentence.replace(k,\" \"+k+\" \")\n",
    "            else:\n",
    "                formatted = sentence\n",
    "    if sentence == \"\":\n",
    "        return(\" \")\n",
    "    formattedSentence = formatted.split()\n",
    "    for i in range(len(formattedSentence)):#goes through all the words in the list\n",
    "            if formattedSentence[i] not in stops:#if the word is not a stop word\n",
    "                formattedSentence[i]=\"[MASK]\"\n",
    "                masked = ' '.join(formattedSentence)\n",
    "                formattedSentence = formatted.split()\n",
    "                for j in range(5):\n",
    "                    changedSentence = unmasker(masked)[j][\"sequence\"]\n",
    "                    sentences.append(changedSentence)\n",
    "    if len(sentences)==0:\n",
    "        return sentence\n",
    "    return sentences"
   ]
  },
  {
   "cell_type": "code",
   "execution_count": null,
   "metadata": {},
   "outputs": [],
   "source": [
    "filename = \"Adversarial_Word_Replace_PyTorch_VPN.csv\"\n",
    "original = []\n",
    "with open(filename, 'r') as file:\n",
    "    csvreader = csv.reader(file)\n",
    "    for row in csvreader:\n",
    "        original.append(row)\n",
    "attacked = original[2:]"
   ]
  },
  {
   "cell_type": "code",
   "execution_count": null,
   "metadata": {},
   "outputs": [],
   "source": [
    "sentences = []\n",
    "for i in attacked:\n",
    "    sentences.append(i[0])"
   ]
  },
  {
   "cell_type": "code",
   "execution_count": null,
   "metadata": {
    "scrolled": true
   },
   "outputs": [],
   "source": [
    "defensePredictions = []\n",
    "runtimes=  []\n",
    "total = 0\n",
    "counter=0\n",
    "for i in sentences:\n",
    "    start = timer()\n",
    "    changed = replace(i)\n",
    "    end = timer()\n",
    "    total+=(end-start)\n",
    "    runtimes.append(end-start)\n",
    "    classifications = []\n",
    "    avgConfidence = 0\n",
    "    cont = 0\n",
    "    for a in changed:\n",
    "        b = classification_task(i)\n",
    "        classifications.append(b)\n",
    "    totalSum = 0\n",
    "    for i in classifications:\n",
    "        if i[0][\"label\"]=='POSITIVE':\n",
    "            totalSum+=i[0][\"score\"]\n",
    "        else:\n",
    "            totalSum-=i[0][\"score\"]\n",
    "        cont+=1\n",
    "    if totalSum>0:\n",
    "        prediction = \"POSITIVE\"\n",
    "    elif totalSum<0:\n",
    "        prediction = \"NEGATIVE\"\n",
    "    else:\n",
    "        prediction = \"NEUTRAL\"\n",
    "    avgConfidence = totalSum/cont\n",
    "    defensePredictions.append([prediction,avgConfidence])\n",
    "    counter+=1\n",
    "    print(counter)"
   ]
  },
  {
   "cell_type": "code",
   "execution_count": null,
   "metadata": {},
   "outputs": [],
   "source": [
    "givenLabels = []\n",
    "predictedLabels=[]\n",
    "for i in range(len(sentences)):\n",
    "    givenLabels.append(batch1[1][i])\n",
    "    if defensePredictions[i][0]==\"POSITIVE\":\n",
    "        predictedLabels.append(1)\n",
    "    elif defensePredictions[i][0]==\"NEGATIVE\":\n",
    "        predictedLabels.append(0)\n",
    "    else:\n",
    "        predictedLabels.append(\"\")"
   ]
  },
  {
   "cell_type": "code",
   "execution_count": null,
   "metadata": {},
   "outputs": [],
   "source": [
    "numTruePositives = 0\n",
    "numTrueNegatives = 0\n",
    "numFalsePositives = 0\n",
    "numFalseNegatives = 0"
   ]
  },
  {
   "cell_type": "code",
   "execution_count": null,
   "metadata": {},
   "outputs": [],
   "source": [
    "outputs = []\n",
    "for i in range(len(predictedLabels)):\n",
    "    correct = False\n",
    "    if predictedLabels[i]==givenLabels[i]:\n",
    "        correct = True\n",
    "    outputs.append([sentences[i],givenLabels[i],predictedLabels[i],defensePredictions[i][1],correct,runtimes[i]])"
   ]
  },
  {
   "cell_type": "code",
   "execution_count": null,
   "metadata": {
    "scrolled": true
   },
   "outputs": [],
   "source": [
    "for i in outputs:\n",
    "    if i[4] and i[2]==0:\n",
    "        numTrueNegatives+=1\n",
    "    elif i[4] and i[2]==1:\n",
    "        numTruePositives+=1\n",
    "    elif not i[4] and i[2]==1:\n",
    "        numFalsePositives+=1\n",
    "    elif not i[4] and i[2]==1:\n",
    "        numFalseNegatives+=1"
   ]
  },
  {
   "cell_type": "code",
   "execution_count": null,
   "metadata": {},
   "outputs": [],
   "source": [
    "accuracy = (numTruePositives+numTrueNegatives)/(numTruePositives+numTrueNegatives+numFalsePositives+numFalseNegatives)\n",
    "precision = numTruePositives/(numTruePositives+numFalsePositives)\n",
    "recall = numTruePositives/(numTruePositives+numFalseNegatives)\n",
    "specificity =numTrueNegatives/(numTrueNegatives+numFalsePositives)\n",
    "f1 = 2*(precision*recall)/(precision+recall)\n",
    "totalTime = sum(runtimes)"
   ]
  },
  {
   "cell_type": "code",
   "execution_count": null,
   "metadata": {},
   "outputs": [],
   "source": [
    "filename = \"Defense_Word_Replace_PyTorch_VPN.csv\"#NEED TO CHANGE IF DIFF DATASET\n",
    "col_names = [\"Sentence\", \"Actual Label\",\"Predicted Label\",\"Confidence\",\"Runtime\"]\n",
    "row1 = [f\"Accuracy:{accuracy:.3f}\",f\"Precision:{precision:.3f}\",f\"Recall:{recall:.3f}\",f\"Specificity:{specificity:.3f}\",f\"F1-Score:{f1:.3f}\",f\"Total Runtime:{totalTime:.3f}\"]\n",
    "with open(filename, 'w') as csvfile:\n",
    "    # creating a csv writer object\n",
    "    csvwriter = csv.writer(csvfile)\n",
    "     \n",
    "    # writing the fields\n",
    "    csvwriter.writerow(row1)\n",
    "    csvwriter.writerow(col_names)\n",
    "     \n",
    "    # writing the data rows\n",
    "    csvwriter.writerows(outputs)"
   ]
  }
 ],
 "metadata": {
  "kernelspec": {
   "display_name": "Python 3",
   "language": "python",
   "name": "python3"
  },
  "language_info": {
   "codemirror_mode": {
    "name": "ipython",
    "version": 3
   },
   "file_extension": ".py",
   "mimetype": "text/x-python",
   "name": "python",
   "nbconvert_exporter": "python",
   "pygments_lexer": "ipython3",
   "version": "3.6.9"
  }
 },
 "nbformat": 4,
 "nbformat_minor": 2
}
